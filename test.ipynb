{
 "cells": [
  {
   "cell_type": "code",
   "execution_count": 2,
   "metadata": {},
   "outputs": [
    {
     "name": "stdout",
     "output_type": "stream",
     "text": [
      "AllCatsGoToHeaven 2.jpeg\n"
     ]
    },
    {
     "ename": "AttributeError",
     "evalue": "module 'posixpath' has no attribute 'splitunc'",
     "output_type": "error",
     "traceback": [
      "\u001b[0;31m---------------------------------------------------------------------------\u001b[0m",
      "\u001b[0;31mAttributeError\u001b[0m                            Traceback (most recent call last)",
      "\u001b[1;32m/Users/azus/Documents/Code/Py/DS/test.ipynb Cell 1'\u001b[0m in \u001b[0;36m<cell line: 24>\u001b[0;34m()\u001b[0m\n\u001b[1;32m     <a href='vscode-notebook-cell:/Users/azus/Documents/Code/Py/DS/test.ipynb#ch0000000?line=21'>22</a>\u001b[0m \u001b[39m# print(hash(path))\u001b[39;00m\n\u001b[1;32m     <a href='vscode-notebook-cell:/Users/azus/Documents/Code/Py/DS/test.ipynb#ch0000000?line=22'>23</a>\u001b[0m \u001b[39mprint\u001b[39m(os\u001b[39m.\u001b[39mpath\u001b[39m.\u001b[39mbasename(path))\n\u001b[0;32m---> <a href='vscode-notebook-cell:/Users/azus/Documents/Code/Py/DS/test.ipynb#ch0000000?line=23'>24</a>\u001b[0m \u001b[39mprint\u001b[39m(os\u001b[39m.\u001b[39;49mpath\u001b[39m.\u001b[39;49msplitunc(path))\n\u001b[1;32m     <a href='vscode-notebook-cell:/Users/azus/Documents/Code/Py/DS/test.ipynb#ch0000000?line=24'>25</a>\u001b[0m \u001b[39mprint\u001b[39m(os\u001b[39m.\u001b[39mpath\u001b[39m.\u001b[39msplitext(path))\n",
      "\u001b[0;31mAttributeError\u001b[0m: module 'posixpath' has no attribute 'splitunc'"
     ]
    }
   ],
   "source": [
    "#!/usr/bin/python\n",
    "import json\n",
    "import os\n",
    "import hashlib \n",
    "\n",
    "\n",
    "path = \"/Users/azus/Documents/Code/Py/DS/AllCatsGoToHeaven 2.jpeg\"\n",
    "# path.encode(\"utf-8\")\n",
    "\n",
    "def hash(file_path, Bytes=1024):\n",
    "    # new md5 object\n",
    "    _MD5 = hashlib.md5()\n",
    "    with open(file_path, 'rb') as f:\n",
    "        # read in first batch\n",
    "        data=f.read(Bytes)\n",
    "        # until empty\n",
    "        while(data):\n",
    "            _MD5.update(data)\n",
    "            data=f.read(Bytes)\n",
    "    ret = _MD5.hexdigest()\n",
    "    return ret\n",
    "# print(hash(path))\n",
    "print(os.path.basename(path))\n",
    "print(os.path.splitunc(path))\n",
    "print(os.path.splitext(path))\n",
    "# print(hash(path))"
   ]
  },
  {
   "cell_type": "code",
   "execution_count": 15,
   "metadata": {},
   "outputs": [
    {
     "name": "stdout",
     "output_type": "stream",
     "text": [
      "asdfasdfasdf\n"
     ]
    }
   ],
   "source": [
    "asdf = \"asdf\"\n",
    "\n",
    "asdg = \"asdfasdf\"\n",
    "\n",
    "asdf = asdf + asdg\n",
    "print(asdf)"
   ]
  },
  {
   "cell_type": "code",
   "execution_count": 1,
   "metadata": {},
   "outputs": [],
   "source": [
    "import time"
   ]
  },
  {
   "cell_type": "code",
   "execution_count": 34,
   "metadata": {},
   "outputs": [
    {
     "name": "stdout",
     "output_type": "stream",
     "text": [
      "secs=1650348657.557863\n",
      "time.struct_time(tm_year=2022, tm_mon=4, tm_mday=19, tm_hour=14, tm_min=10, tm_sec=57, tm_wday=1, tm_yday=109, tm_isdst=0)\n",
      "time.struct_time(tm_year=2022, tm_mon=4, tm_mday=19, tm_hour=6, tm_min=10, tm_sec=57, tm_wday=1, tm_yday=109, tm_isdst=0)\n",
      "secs=1650348657.0\n",
      "2022-04-19-14:10-Tue\n",
      "time.struct_time(tm_year=2022, tm_mon=4, tm_mday=19, tm_hour=14, tm_min=10, tm_sec=0, tm_wday=1, tm_yday=109, tm_isdst=-1)\n",
      "4\n",
      "2022-08-07-00:00-Sun\n"
     ]
    }
   ],
   "source": [
    "FMT_FORMAT='%Y-%m-%d-%H:%M-%a'\n",
    "\n",
    "secs = time.time()\n",
    "print(f'secs={secs}')\n",
    "\n",
    "# two time struct\n",
    "local_time = time.localtime(secs)\n",
    "gmt_time = time.gmtime(secs)\n",
    "print(local_time)\n",
    "print(gmt_time)\n",
    "\n",
    "# ret secs\n",
    "secs = time.mktime(local_time)\n",
    "print(f'secs={secs}')\n",
    "\n",
    "str_time = time.strftime('%Y-%m-%d-%H:%M-%a', local_time)\n",
    "print(str_time)\n",
    "str_p_time = time.strptime(str_time, '%Y-%m-%d-%H:%M-%a')\n",
    "\n",
    "print(str_p_time)\n",
    "print(str_time.find('-'))\n",
    "\n",
    "struct_time = time.strptime('2022-08-07-00:00', '%Y-%m-%d-%H:%M')\n",
    "print(time.strftime('%Y-%m-%d-%H:%M-%a', struct_time))\n"
   ]
  },
  {
   "cell_type": "code",
   "execution_count": null,
   "metadata": {},
   "outputs": [],
   "source": []
  },
  {
   "cell_type": "code",
   "execution_count": 5,
   "metadata": {},
   "outputs": [
    {
     "name": "stdout",
     "output_type": "stream",
     "text": [
      "timer run\n"
     ]
    },
    {
     "name": "stdout",
     "output_type": "stream",
     "text": [
      "ALRAM\n"
     ]
    }
   ],
   "source": [
    "from threading import Timer\n",
    "def setOff():\n",
    "    print(\"ALRAM\")\n",
    "timer = Timer(10, setOff)\n",
    "timer.start()\n",
    "print(\"timer run\")"
   ]
  },
  {
   "cell_type": "code",
   "execution_count": 13,
   "metadata": {},
   "outputs": [
    {
     "name": "stdout",
     "output_type": "stream",
     "text": [
      "something\n"
     ]
    }
   ],
   "source": [
    "'''\n",
    "Date: 2022-04-16 15:20:34\n",
    "LastEditors: Azus\n",
    "LastEditTime: 2022-06-15 01:30:42\n",
    "FilePath: /DS/test.ipynb\n",
    "'''\n",
    "# 2022,06,15,1,26,something\n",
    "\n",
    "year, month, day, hour, minute, info= map(str, input(\"input year, month, day, hour, minute, info\").split(','))\n",
    "print(info)"
   ]
  },
  {
   "cell_type": "code",
   "execution_count": 14,
   "metadata": {},
   "outputs": [
    {
     "name": "stdout",
     "output_type": "stream",
     "text": [
      "{'description': '吕卓生我爱你', 'what': 'no'}\n"
     ]
    }
   ],
   "source": [
    "ori = {\"description\":\"吕卓生我爱你\"}\n",
    "ori.update({\"what\":\"no\"})\n",
    "print(ori)"
   ]
  },
  {
   "cell_type": "code",
   "execution_count": null,
   "metadata": {},
   "outputs": [],
   "source": [
    "import json\n",
    "obj = json.loads(\"['202250']\")"
   ]
  }
 ],
 "metadata": {
  "interpreter": {
   "hash": "c6e4e9f98eb68ad3b7c296f83d20e6de614cb42e90992a65aa266555a3137d0d"
  },
  "kernelspec": {
   "display_name": "Python 3.9.6 ('base')",
   "language": "python",
   "name": "python3"
  },
  "language_info": {
   "codemirror_mode": {
    "name": "ipython",
    "version": 3
   },
   "file_extension": ".py",
   "mimetype": "text/x-python",
   "name": "python",
   "nbconvert_exporter": "python",
   "pygments_lexer": "ipython3",
   "version": "3.9.12"
  },
  "orig_nbformat": 4
 },
 "nbformat": 4,
 "nbformat_minor": 2
}
